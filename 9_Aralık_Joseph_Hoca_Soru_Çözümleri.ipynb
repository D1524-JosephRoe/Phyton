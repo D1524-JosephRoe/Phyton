{
  "nbformat": 4,
  "nbformat_minor": 0,
  "metadata": {
    "colab": {
      "name": "9-Aralık-Joseph-Hoca-Soru-Çözümleri.ipynb",
      "provenance": [],
      "authorship_tag": "ABX9TyM/oADZUTNwk3XsA41h6XQ9",
      "include_colab_link": true
    },
    "kernelspec": {
      "name": "python3",
      "display_name": "Python 3"
    },
    "language_info": {
      "name": "python"
    }
  },
  "cells": [
    {
      "cell_type": "markdown",
      "metadata": {
        "id": "view-in-github",
        "colab_type": "text"
      },
      "source": [
        "<a href=\"https://colab.research.google.com/github/JosephRoe/Phyton/blob/main/9_Aral%C4%B1k_Joseph_Hoca_Soru_%C3%87%C3%B6z%C3%BCmleri.ipynb\" target=\"_parent\"><img src=\"https://colab.research.google.com/assets/colab-badge.svg\" alt=\"Open In Colab\"/></a>"
      ]
    },
    {
      "cell_type": "code",
      "execution_count": null,
      "metadata": {
        "id": "s4g42XhRa5M_"
      },
      "outputs": [],
      "source": [
        "command = [\"right 20\", \"right 30\", \"left 50\", \"up 10\", \"down 20\"]"
      ]
    },
    {
      "cell_type": "code",
      "source": [
        "x = y = 0"
      ],
      "metadata": {
        "id": "gE6JKrmcdywH"
      },
      "execution_count": null,
      "outputs": []
    },
    {
      "cell_type": "code",
      "source": [
        "for i in range(len(command)):\n",
        "  if command[i].startswith(\"r\") : x = x + int(command[i].split()[1])\n",
        "  elif command[i].startswith(\"l\") : x = x - int(command[i].split()[1])\n",
        "  elif command[i].startswith(\"u\") : y = y + int(command[i].split()[1])\n",
        "  elif command[i].startswith(\"d\") : y = y - int(command[i].split()[1])\n",
        "\n",
        "[x,y]"
      ],
      "metadata": {
        "colab": {
          "base_uri": "https://localhost:8080/"
        },
        "id": "URzHdmhFeb1w",
        "outputId": "d5d6cccb-6295-4ef2-e6f0-9705332436e4"
      },
      "execution_count": null,
      "outputs": [
        {
          "output_type": "execute_result",
          "data": {
            "text/plain": [
              "[0, -10]"
            ]
          },
          "metadata": {},
          "execution_count": 7
        }
      ]
    },
    {
      "cell_type": "code",
      "source": [
        "def isValid(s) :\n",
        "    while \"()\" in s or \"[]\" in s or \"{}\" in s:\n",
        "     s = s.replace(\"()\", \"\").replace(\"[]\", \"\").replace(\"{}\", \"\")\n",
        "    return s == \"\""
      ],
      "metadata": {
        "id": "lkpMKuzulWJ0"
      },
      "execution_count": null,
      "outputs": []
    },
    {
      "cell_type": "code",
      "source": [
        "x = \"(){}[]\"\n",
        "isValid(x)"
      ],
      "metadata": {
        "id": "pvm2u309qYNg",
        "colab": {
          "base_uri": "https://localhost:8080/"
        },
        "outputId": "87ebfb2b-0b31-482e-c7b5-a6c622623b92"
      },
      "execution_count": 12,
      "outputs": [
        {
          "output_type": "execute_result",
          "data": {
            "text/plain": [
              "True"
            ]
          },
          "metadata": {},
          "execution_count": 12
        }
      ]
    },
    {
      "cell_type": "code",
      "source": [
        "y = \"({{)[]}}\"\n",
        "isValid(y)"
      ],
      "metadata": {
        "colab": {
          "base_uri": "https://localhost:8080/"
        },
        "id": "1qyx3juerg2X",
        "outputId": "0dd7d702-3087-4a7e-a274-0efec7e655cc"
      },
      "execution_count": 13,
      "outputs": [
        {
          "output_type": "execute_result",
          "data": {
            "text/plain": [
              "False"
            ]
          },
          "metadata": {},
          "execution_count": 13
        }
      ]
    },
    {
      "cell_type": "code",
      "source": [
        "calculator = {\"+\" : (lambda x, y : x + y),\n",
        "              \"-\" : (lambda x, y : x - y),\n",
        "              \"*\" : (lambda x, y : x * y),\n",
        "              \"/\" : (lambda x, y : x / y)}"
      ],
      "metadata": {
        "id": "p4kNwlq1r3qV"
      },
      "execution_count": 15,
      "outputs": []
    },
    {
      "cell_type": "code",
      "source": [
        "calculator[\"+\"]"
      ],
      "metadata": {
        "colab": {
          "base_uri": "https://localhost:8080/"
        },
        "id": "sF2FD5R7sygn",
        "outputId": "04289199-31d4-4a4c-e2f3-1c73a01d3616"
      },
      "execution_count": 16,
      "outputs": [
        {
          "output_type": "execute_result",
          "data": {
            "text/plain": [
              "<function __main__.<lambda>>"
            ]
          },
          "metadata": {},
          "execution_count": 16
        }
      ]
    },
    {
      "cell_type": "code",
      "source": [
        "calculator[\"+\"](4,5)"
      ],
      "metadata": {
        "colab": {
          "base_uri": "https://localhost:8080/"
        },
        "id": "qIClLFWvs4Ae",
        "outputId": "70b0c9d8-b127-4dab-eeea-de9a92ce7040"
      },
      "execution_count": 17,
      "outputs": [
        {
          "output_type": "execute_result",
          "data": {
            "text/plain": [
              "9"
            ]
          },
          "metadata": {},
          "execution_count": 17
        }
      ]
    },
    {
      "cell_type": "code",
      "source": [
        "calculator[\"/\"](20,2)"
      ],
      "metadata": {
        "colab": {
          "base_uri": "https://localhost:8080/"
        },
        "id": "S8zdYUAdtAWi",
        "outputId": "a80e4e06-4fcf-444e-c5c2-c9a910a5cf37"
      },
      "execution_count": 19,
      "outputs": [
        {
          "output_type": "execute_result",
          "data": {
            "text/plain": [
              "10.0"
            ]
          },
          "metadata": {},
          "execution_count": 19
        }
      ]
    },
    {
      "cell_type": "code",
      "source": [
        "calculator[\"-\"](15,4)"
      ],
      "metadata": {
        "colab": {
          "base_uri": "https://localhost:8080/"
        },
        "id": "wV8-AUP1tWY_",
        "outputId": "a27443b4-4ed7-41ae-fd9c-64ede18c7d1d"
      },
      "execution_count": 20,
      "outputs": [
        {
          "output_type": "execute_result",
          "data": {
            "text/plain": [
              "11"
            ]
          },
          "metadata": {},
          "execution_count": 20
        }
      ]
    },
    {
      "cell_type": "code",
      "source": [
        "calculator[\"+\"](19,3)"
      ],
      "metadata": {
        "colab": {
          "base_uri": "https://localhost:8080/"
        },
        "id": "OXEo6M8gtcxn",
        "outputId": "de4604c3-3e4d-4743-fd5a-e874433967f3"
      },
      "execution_count": 21,
      "outputs": [
        {
          "output_type": "execute_result",
          "data": {
            "text/plain": [
              "22"
            ]
          },
          "metadata": {},
          "execution_count": 21
        }
      ]
    },
    {
      "cell_type": "code",
      "source": [
        "from timeit import timeit"
      ],
      "metadata": {
        "id": "Q_oWqWk28RqR"
      },
      "execution_count": 30,
      "outputs": []
    },
    {
      "cell_type": "code",
      "source": [
        "def for_loop():\n",
        "  result =[]\n",
        "\n",
        "  for i in range(1000000):\n",
        "    result.append(i)\n",
        "  return result"
      ],
      "metadata": {
        "id": "DWzKJ6UxuviX"
      },
      "execution_count": 23,
      "outputs": []
    },
    {
      "cell_type": "code",
      "source": [
        "def for_comp():\n",
        "  return [i for i in range(1000000)]\n"
      ],
      "metadata": {
        "id": "XBCYjLfK6qLv"
      },
      "execution_count": 24,
      "outputs": []
    },
    {
      "cell_type": "code",
      "source": [
        "#size = 100\n",
        "time_for = timeit(for_loop, number=size)\n",
        "time_list_comp = timeit(for_comp, number=size)"
      ],
      "metadata": {
        "id": "FkhP2Btg6-IY"
      },
      "execution_count": 32,
      "outputs": []
    },
    {
      "cell_type": "code",
      "source": [
        "print(f\"{round(time_for/time_list_comp, 2)}\")"
      ],
      "metadata": {
        "colab": {
          "base_uri": "https://localhost:8080/"
        },
        "id": "7Bfhlc8h8Qfr",
        "outputId": "addc020c-6151-481c-c132-6d684f16043a"
      },
      "execution_count": 35,
      "outputs": [
        {
          "output_type": "stream",
          "name": "stdout",
          "text": [
            "1.61\n"
          ]
        }
      ]
    },
    {
      "cell_type": "code",
      "source": [
        ""
      ],
      "metadata": {
        "id": "AsXF3VYP6JFH"
      },
      "execution_count": null,
      "outputs": []
    }
  ]
}