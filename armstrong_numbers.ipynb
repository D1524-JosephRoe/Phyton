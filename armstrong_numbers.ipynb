{
  "nbformat": 4,
  "nbformat_minor": 0,
  "metadata": {
    "colab": {
      "name": "armstrong_numbers.ipynb",
      "provenance": [],
      "authorship_tag": "ABX9TyNSywBHeEH9hhc5l61rEK0Q",
      "include_colab_link": true
    },
    "kernelspec": {
      "name": "python3",
      "display_name": "Python 3"
    },
    "language_info": {
      "name": "python"
    }
  },
  "cells": [
    {
      "cell_type": "markdown",
      "metadata": {
        "id": "view-in-github",
        "colab_type": "text"
      },
      "source": [
        "<a href=\"https://colab.research.google.com/github/JosephRoe/Phyton/blob/main/armstrong_numbers.ipynb\" target=\"_parent\"><img src=\"https://colab.research.google.com/assets/colab-badge.svg\" alt=\"Open In Colab\"/></a>"
      ]
    },
    {
      "cell_type": "code",
      "metadata": {
        "colab": {
          "base_uri": "https://localhost:8080/"
        },
        "id": "bS19axKjX2pS",
        "outputId": "ba4cf89f-6b1e-4e69-a555-0850b750fb81"
      },
      "source": [
        "sayı = input(\"Enter a positive number :\")\n",
        "\n",
        "while True:\n",
        "  if sayı.isdigit() == False:\n",
        "    print(\"It is an invalid entry. Don't use non-numeric, float, or negative values!\")\n",
        "    sayı = input(\"Enter a positive number :\")\n",
        "  else:\n",
        "    sayı=int(sayı)\n",
        "    break\n",
        "\n",
        "toplam_sayı=0\n",
        "asıl_sayı=sayı\n",
        "\n",
        "while sayı > 0:\n",
        "  rakam = sayı%10\n",
        "  toplam_sayı += rakam ** 3\n",
        "  sayı //= 10\n",
        "\n",
        "if toplam_sayı == asıl_sayı:\n",
        "  print(f\"{asıl_sayı} is an Armstrong Number.\")\n",
        "\n",
        "elif toplam_sayı != sayı:\n",
        "  print(f\"{asıl_sayı} is not an Armstrong Number.\")\n"
      ],
      "execution_count": 74,
      "outputs": [
        {
          "output_type": "stream",
          "name": "stdout",
          "text": [
            "Enter a positive number :one\n",
            "It is an invalid entry. Don't use non-numeric, float, or negative values!\n",
            "Enter a number :-12\n",
            "It is an invalid entry. Don't use non-numeric, float, or negative values!\n",
            "Enter a number :12.3\n",
            "It is an invalid entry. Don't use non-numeric, float, or negative values!\n",
            "Enter a number :407\n",
            "407 is an Armstrong Number.\n"
          ]
        }
      ]
    }
  ]
}