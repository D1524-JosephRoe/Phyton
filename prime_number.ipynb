{
  "nbformat": 4,
  "nbformat_minor": 0,
  "metadata": {
    "colab": {
      "name": "prime_number.ipynb",
      "provenance": [],
      "authorship_tag": "ABX9TyOuNcxHRsx0t3qJ+b32ALQW",
      "include_colab_link": true
    },
    "kernelspec": {
      "name": "python3",
      "display_name": "Python 3"
    },
    "language_info": {
      "name": "python"
    }
  },
  "cells": [
    {
      "cell_type": "markdown",
      "metadata": {
        "id": "view-in-github",
        "colab_type": "text"
      },
      "source": [
        "<a href=\"https://colab.research.google.com/github/JosephRoe/Phyton/blob/main/prime_number.ipynb\" target=\"_parent\"><img src=\"https://colab.research.google.com/assets/colab-badge.svg\" alt=\"Open In Colab\"/></a>"
      ]
    },
    {
      "cell_type": "code",
      "metadata": {
        "colab": {
          "base_uri": "https://localhost:8080/"
        },
        "id": "bS19axKjX2pS",
        "outputId": "354a0984-45d8-4ade-d7f9-05f7bbe1f2a7"
      },
      "source": [
        "sayı = int(input(\"Let's check, enter prime number: \"))\n",
        "\n",
        "if sayı > 1:\n",
        "  for i in range(2, int((sayı/2) + 1)):\n",
        "    if sayı % i == 0:\n",
        "      print(f\"You are wrong. {sayı} is not a prime number\")\n",
        "      break\n",
        "  else:\n",
        "    print(f\"You are right. {sayı} is a prime number\")\n",
        "     \n",
        "else:\n",
        "  print(f\"You are wrong. {sayı} is not a prime number\")"
      ],
      "execution_count": 98,
      "outputs": [
        {
          "output_type": "stream",
          "name": "stdout",
          "text": [
            "Let's check, enter prime number: 101\n",
            "You are right. 101 is a prime number\n"
          ]
        }
      ]
    }
  ]
}