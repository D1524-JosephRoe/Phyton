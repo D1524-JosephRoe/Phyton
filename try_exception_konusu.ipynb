{
  "nbformat": 4,
  "nbformat_minor": 0,
  "metadata": {
    "colab": {
      "name": "try-exception-konusu.ipynb",
      "provenance": [],
      "authorship_tag": "ABX9TyN2gHISr8c0OCCE5OQV5Vw2",
      "include_colab_link": true
    },
    "kernelspec": {
      "name": "python3",
      "display_name": "Python 3"
    },
    "language_info": {
      "name": "python"
    }
  },
  "cells": [
    {
      "cell_type": "markdown",
      "metadata": {
        "id": "view-in-github",
        "colab_type": "text"
      },
      "source": [
        "<a href=\"https://colab.research.google.com/github/JosephRoe/Phyton/blob/main/try_exception_konusu.ipynb\" target=\"_parent\"><img src=\"https://colab.research.google.com/assets/colab-badge.svg\" alt=\"Open In Colab\"/></a>"
      ]
    },
    {
      "cell_type": "code",
      "metadata": {
        "id": "qtwZ6__VoUEJ",
        "colab": {
          "base_uri": "https://localhost:8080/"
        },
        "outputId": "232d9eae-6e81-46c8-98d7-3c80eb1bd9fe"
      },
      "source": [
        "import math\n",
        "\n"
      ],
      "execution_count": null,
      "outputs": [
        {
          "output_type": "stream",
          "name": "stdout",
          "text": [
            "['__doc__', '__loader__', '__name__', '__package__', '__spec__', 'acos', 'acosh', 'asin', 'asinh', 'atan', 'atan2', 'atanh', 'ceil', 'copysign', 'cos', 'cosh', 'degrees', 'e', 'erf', 'erfc', 'exp', 'expm1', 'fabs', 'factorial', 'floor', 'fmod', 'frexp', 'fsum', 'gamma', 'gcd', 'hypot', 'inf', 'isclose', 'isfinite', 'isinf', 'isnan', 'ldexp', 'lgamma', 'log', 'log10', 'log1p', 'log2', 'modf', 'nan', 'pi', 'pow', 'radians', 'remainder', 'sin', 'sinh', 'sqrt', 'tan', 'tanh', 'tau', 'trunc']\n"
          ]
        }
      ]
    },
    {
      "cell_type": "code",
      "metadata": {
        "colab": {
          "base_uri": "https://localhost:8080/"
        },
        "id": "FtCclUL2vq5V",
        "outputId": "8bc1d7d2-c7a3-40d2-d030-764bbaa40680"
      },
      "source": [
        "print(dir(math))"
      ],
      "execution_count": null,
      "outputs": [
        {
          "output_type": "stream",
          "name": "stdout",
          "text": [
            "['__doc__', '__loader__', '__name__', '__package__', '__spec__', 'acos', 'acosh', 'asin', 'asinh', 'atan', 'atan2', 'atanh', 'ceil', 'copysign', 'cos', 'cosh', 'degrees', 'e', 'erf', 'erfc', 'exp', 'expm1', 'fabs', 'factorial', 'floor', 'fmod', 'frexp', 'fsum', 'gamma', 'gcd', 'hypot', 'inf', 'isclose', 'isfinite', 'isinf', 'isnan', 'ldexp', 'lgamma', 'log', 'log10', 'log1p', 'log2', 'modf', 'nan', 'pi', 'pow', 'radians', 'remainder', 'sin', 'sinh', 'sqrt', 'tan', 'tanh', 'tau', 'trunc']\n"
          ]
        }
      ]
    },
    {
      "cell_type": "code",
      "metadata": {
        "colab": {
          "base_uri": "https://localhost:8080/"
        },
        "id": "o1T_3jJZvwCS",
        "outputId": "34d955fe-8318-44b8-914f-06023e24d6ab"
      },
      "source": [
        "math.log10(10)"
      ],
      "execution_count": null,
      "outputs": [
        {
          "output_type": "execute_result",
          "data": {
            "text/plain": [
              "1.0"
            ]
          },
          "metadata": {},
          "execution_count": 6
        }
      ]
    },
    {
      "cell_type": "code",
      "metadata": {
        "id": "JX5Y1SApwJlO"
      },
      "source": [
        "from math import pow"
      ],
      "execution_count": null,
      "outputs": []
    },
    {
      "cell_type": "code",
      "metadata": {
        "colab": {
          "base_uri": "https://localhost:8080/"
        },
        "id": "SPnMpvwdwM7H",
        "outputId": "72de586b-f1c5-4dd4-b35b-bbd8fc892e2e"
      },
      "source": [
        "print(pow(5,3))"
      ],
      "execution_count": null,
      "outputs": [
        {
          "output_type": "stream",
          "name": "stdout",
          "text": [
            "125.0\n"
          ]
        }
      ]
    },
    {
      "cell_type": "code",
      "metadata": {
        "colab": {
          "base_uri": "https://localhost:8080/"
        },
        "id": "ebhOFtWUwvUB",
        "outputId": "da35d13b-5cc9-453b-a7cd-ded9fe146411"
      },
      "source": [
        "import string\n",
        "print(dir(string))"
      ],
      "execution_count": null,
      "outputs": [
        {
          "output_type": "stream",
          "name": "stdout",
          "text": [
            "['Formatter', 'Template', '_ChainMap', '_TemplateMetaclass', '__all__', '__builtins__', '__cached__', '__doc__', '__file__', '__loader__', '__name__', '__package__', '__spec__', '_re', '_string', 'ascii_letters', 'ascii_lowercase', 'ascii_uppercase', 'capwords', 'digits', 'hexdigits', 'octdigits', 'printable', 'punctuation', 'whitespace']\n"
          ]
        }
      ]
    },
    {
      "cell_type": "code",
      "metadata": {
        "colab": {
          "base_uri": "https://localhost:8080/"
        },
        "id": "oKzqc54Cw6fM",
        "outputId": "b0936d8c-3338-461c-cee7-62024a3b4a5e"
      },
      "source": [
        "print(string.digits)\n",
        "print(string.punctuation)"
      ],
      "execution_count": null,
      "outputs": [
        {
          "output_type": "stream",
          "name": "stdout",
          "text": [
            "0123456789\n",
            "!\"#$%&'()*+,-./:;<=>?@[\\]^_`{|}~\n"
          ]
        }
      ]
    },
    {
      "cell_type": "code",
      "metadata": {
        "colab": {
          "base_uri": "https://localhost:8080/"
        },
        "id": "XZuv6VPcxl2N",
        "outputId": "736702e4-5ae9-4ede-aaff-2c613cb8fb2a"
      },
      "source": [
        "import datetime\n",
        "\n",
        "print(datetime.date.today())  \n",
        "print(datetime.datetime.now())"
      ],
      "execution_count": null,
      "outputs": [
        {
          "output_type": "stream",
          "name": "stdout",
          "text": [
            "2021-12-05\n",
            "2021-12-05 18:06:21.178263\n"
          ]
        }
      ]
    },
    {
      "cell_type": "code",
      "metadata": {
        "colab": {
          "base_uri": "https://localhost:8080/"
        },
        "id": "3yswlYXTx5Zz",
        "outputId": "ee8e4fe3-324e-458a-eb68-f32a9ad355c0"
      },
      "source": [
        "from random import choice\n",
        "\n",
        "city = ['Stockholm', 'Istanbul', 'Seul', 'Cape Town']\n",
        "print(choice(city))"
      ],
      "execution_count": null,
      "outputs": [
        {
          "output_type": "stream",
          "name": "stdout",
          "text": [
            "Stockholm\n"
          ]
        }
      ]
    },
    {
      "cell_type": "code",
      "metadata": {
        "colab": {
          "base_uri": "https://localhost:8080/"
        },
        "id": "CQY92AW0yIDZ",
        "outputId": "31ee7f98-21f1-4416-ac99-cc8fc75675da"
      },
      "source": [
        "import random\n",
        "print(random.random())"
      ],
      "execution_count": null,
      "outputs": [
        {
          "output_type": "stream",
          "name": "stdout",
          "text": [
            "0.1593630876676343\n"
          ]
        }
      ]
    },
    {
      "cell_type": "code",
      "metadata": {
        "colab": {
          "base_uri": "https://localhost:8080/"
        },
        "id": "re1pqaGJvJqY",
        "outputId": "4f7d6997-fb75-4afb-ff6e-d8fc87bf1356"
      },
      "source": [
        "pip --version"
      ],
      "execution_count": null,
      "outputs": [
        {
          "output_type": "stream",
          "name": "stdout",
          "text": [
            "pip 21.1.3 from /usr/local/lib/python3.7/dist-packages/pip (python 3.7)\n"
          ]
        }
      ]
    },
    {
      "cell_type": "code",
      "metadata": {
        "colab": {
          "base_uri": "https://localhost:8080/"
        },
        "id": "9yqdOcJAMDrs",
        "outputId": "17748fb3-0b12-498c-dd26-d60adf57e889"
      },
      "source": [
        "while True:\n",
        "    no_one = int(input(\"The first number please : \"))\n",
        "    no_two = int(input(\"The second number please : \"))\n",
        "    \n",
        "    try :\n",
        "        division = no_one / no_two\n",
        "        print(\"The result of the division is : \", division)\n",
        "        break\n",
        "    except :\n",
        "        print(\"Something is wrong. enter again\")"
      ],
      "execution_count": null,
      "outputs": [
        {
          "output_type": "stream",
          "name": "stdout",
          "text": [
            "The first number please : 23\n",
            "The second number please : 32\n",
            "The result of the division is :  0.71875\n"
          ]
        }
      ]
    },
    {
      "cell_type": "code",
      "metadata": {
        "colab": {
          "base_uri": "https://localhost:8080/"
        },
        "id": "FjJL1Z6MSQ01",
        "outputId": "5035a6b0-80d6-4411-edfe-8636c695c272"
      },
      "source": [
        "while True:\n",
        "    no_one = int(input(\"The first number please : \"))\n",
        "    no_two = int(input(\"The second number please : \"))\n",
        "    \n",
        "    try :\n",
        "        division = no_one / no_two\n",
        "        print(\"The result of the division is : \", division)\n",
        "        break\n",
        "    except ZeroDivisionError:\n",
        "        print(\"Bir sayı sıfıra bölünemez\")"
      ],
      "execution_count": null,
      "outputs": [
        {
          "output_type": "stream",
          "name": "stdout",
          "text": [
            "The first number please : 2\n",
            "The second number please : 0\n",
            "Bir sayı sıfıra bölünemez\n",
            "The first number please : 0\n",
            "The second number please : 12\n",
            "The result of the division is :  0.0\n"
          ]
        }
      ]
    },
    {
      "cell_type": "code",
      "metadata": {
        "colab": {
          "base_uri": "https://localhost:8080/"
        },
        "id": "5HRUuLxHYXnI",
        "outputId": "d2cf772b-e640-44ff-9822-db5737a76546"
      },
      "source": [
        "try:\n",
        "  file = open(\"my_file.txt\", \"r\")\n",
        "  print(file.read())\n",
        "  file.close()\n",
        "except FileNotFoundError:\n",
        "  print(\"There is not such a file or the path is incorrect.\")"
      ],
      "execution_count": null,
      "outputs": [
        {
          "output_type": "stream",
          "name": "stdout",
          "text": [
            "There is not such a file or the path is incorrect.\n"
          ]
        }
      ]
    },
    {
      "cell_type": "code",
      "metadata": {
        "colab": {
          "base_uri": "https://localhost:8080/"
        },
        "id": "-VIYVJi6ZmKo",
        "outputId": "f9479179-cca4-4ea8-f07c-b246dbe32dc9"
      },
      "source": [
        "try:\n",
        "  4 + '4'\n",
        "  file = open(\"my_file.txt\", \"r\")\n",
        "  print(file.read())\n",
        "  file.close()\n",
        "except FileNotFoundError:\n",
        "  print(\"There is not such a file or the path is incorrect.\")\n",
        "except TypeError:\n",
        "  print(\"Type is incorrect.\")"
      ],
      "execution_count": null,
      "outputs": [
        {
          "output_type": "stream",
          "name": "stdout",
          "text": [
            "Type is incorrect.\n"
          ]
        }
      ]
    },
    {
      "cell_type": "code",
      "metadata": {
        "colab": {
          "base_uri": "https://localhost:8080/"
        },
        "id": "W0mhDWlna6Qb",
        "outputId": "ba193a58-0042-4f95-9d34-e1b177d45ece"
      },
      "source": [
        "try:\n",
        "  sonuc= \"4\" + \"5\"\n",
        "  print(\"Hello\")\n",
        "except TypeError:\n",
        "  print(\"Type hatası var. Tipi kontrol etsen iyi olur.\")\n",
        "else :\n",
        "  print(\"aaa demek ki hata yükselmemiş. try içerisinde exception yok. super\", sonuc)\n",
        "finally :\n",
        "  print(\"Eh nihayet bana sıra geldi.\")"
      ],
      "execution_count": null,
      "outputs": [
        {
          "output_type": "stream",
          "name": "stdout",
          "text": [
            "Hello\n",
            "aaa demek ki hata yükselmemiş. try içerisinde exception yok. super 45\n",
            "Eh nihayet bana sıra geldi.\n"
          ]
        }
      ]
    },
    {
      "cell_type": "code",
      "metadata": {
        "colab": {
          "base_uri": "https://localhost:8080/"
        },
        "id": "WArqqcsKcgxx",
        "outputId": "5a39b6f9-3462-4243-8dee-77d8c67e2c9a"
      },
      "source": [
        "try:\n",
        "  sonuc= 4/0\n",
        "  print(\"Hello\")\n",
        "except ValueError :\n",
        "  print(\"Value Error.\")\n",
        "except TypeError :\n",
        "  print(\"Type Error.\")\n",
        "except ZeroDivisionError :\n",
        "  print(\"Zero Division Error.\")\n",
        "else :\n",
        "  print(\"aaa demek ki hata yükselmemiş. try içerisinde exception yok. super\", sonuc)\n",
        "finally :\n",
        "  print(\"Eh nihayet bana sıra geldi.\")"
      ],
      "execution_count": null,
      "outputs": [
        {
          "output_type": "stream",
          "name": "stdout",
          "text": [
            "Zero Division Error.\n",
            "Eh nihayet bana sıra geldi.\n"
          ]
        }
      ]
    },
    {
      "cell_type": "code",
      "metadata": {
        "colab": {
          "base_uri": "https://localhost:8080/"
        },
        "id": "3M9riXdyfyXv",
        "outputId": "1a2a68df-1c3a-441a-fa57-8ea9dea89da8"
      },
      "source": [
        "try :\n",
        "  4 / 0\n",
        "except Exception as hata :\n",
        "  print(hata)"
      ],
      "execution_count": null,
      "outputs": [
        {
          "output_type": "stream",
          "name": "stdout",
          "text": [
            "division by zero\n"
          ]
        }
      ]
    },
    {
      "cell_type": "code",
      "metadata": {
        "id": "yGl3rlv2fyaP",
        "colab": {
          "base_uri": "https://localhost:8080/"
        },
        "outputId": "ea63cfc3-761c-4fd1-85de-9561222a9195"
      },
      "source": [
        "while True:\n",
        "    no_one = int(input(\"The first number please : \"))\n",
        "    no_two = int(input(\"The second number please : \"))\n",
        "    try:\n",
        "        division = no_one / no_two\n",
        "        print(\"The result of the division is : \", division)\n",
        "        break\n",
        "    except Exception as e:\n",
        "        print(\"Something went wrong...Try again.\")\n",
        "        print(\"Probably it is because of '{}' error\".format(e))\n",
        "        break"
      ],
      "execution_count": 2,
      "outputs": [
        {
          "output_type": "stream",
          "name": "stdout",
          "text": [
            "The first number please : 2\n",
            "The second number please : 0\n",
            "Something went wrong...Try again.\n",
            "Probably it is because of 'division by zero' error\n"
          ]
        }
      ]
    },
    {
      "cell_type": "code",
      "metadata": {
        "id": "QYEpTjndZf4l",
        "colab": {
          "base_uri": "https://localhost:8080/"
        },
        "outputId": "9cad1a88-9120-419f-f289-4dcecb010f20"
      },
      "source": [
        "try:\n",
        "    x = 2/0\n",
        "\n",
        "except ZeroDivisionError:\n",
        "    print('Attempt to divide by zero')\n",
        "except:\n",
        "    print('Something else went wrong')"
      ],
      "execution_count": 1,
      "outputs": [
        {
          "output_type": "stream",
          "name": "stdout",
          "text": [
            "Attempt to divide by zero\n"
          ]
        }
      ]
    },
    {
      "cell_type": "code",
      "metadata": {
        "id": "-PENN2tNRjTU"
      },
      "source": [
        "try:\n",
        "    int(\"on\")\n",
        "\n",
        "except ZeroDivisionError:\n",
        "    print('Attempt to divide by zero')\n",
        "except NameError:\n",
        "    print('NameError Exception')\n",
        "except:\n",
        "    print('Something else went wrong')"
      ],
      "execution_count": 6,
      "outputs": []
    },
    {
      "cell_type": "code",
      "source": [
        "try:\n",
        "    int(\"on\")\n",
        "\n",
        "except ZeroDivisionError:\n",
        "    print('Attempt to divide by zero')\n",
        "except NameError:\n",
        "    print('NameError Exception')\n",
        "except (ValueError, TypeError):\n",
        "    print('Act in accordince with value and type error')\n",
        "except:\n",
        "    print('Something else went wrong')"
      ],
      "metadata": {
        "colab": {
          "base_uri": "https://localhost:8080/"
        },
        "id": "gGT2l_HaNDhl",
        "outputId": "067332e5-8989-4c4f-f190-deea19cd7b9e"
      },
      "execution_count": 7,
      "outputs": [
        {
          "output_type": "stream",
          "name": "stdout",
          "text": [
            "Act in accordince with value and type error\n"
          ]
        }
      ]
    },
    {
      "cell_type": "code",
      "source": [
        "fruits = [\"banana\", \"mango\",\"pear\",\"apple\",\"kiwi\",\"grape\"]\n",
        "while True:\n",
        "    try:\n",
        "      index = int(input(\"Pick an index number to choose your favorite fruit : \"))\n",
        "      print(f\"Your favorite fruit is {fruits[index]}\")\n",
        "      break\n",
        "    except IndexError:\n",
        "        print(\"There is no such an index. Try again!\")\n",
        "        break\n",
        "    except ValueError:\n",
        "        print(\"You should enter an integer. Try again'\")\n",
        "        break"
      ],
      "metadata": {
        "colab": {
          "base_uri": "https://localhost:8080/"
        },
        "id": "MFBczrj8OJDc",
        "outputId": "3c5dc909-4498-4989-bdf4-ef9309a56f96"
      },
      "execution_count": 7,
      "outputs": [
        {
          "output_type": "stream",
          "name": "stdout",
          "text": [
            "Pick an index number to choose your favorite fruit : *\n",
            "You should enter an integer. Try again'\n"
          ]
        }
      ]
    },
    {
      "cell_type": "code",
      "source": [
        "fruits = [\"banana\", \"mango\",\"pear\",\"apple\",\"kiwi\",\"grape\"]\n",
        "while True:\n",
        "    try:\n",
        "      index = int(input(\"Pick an index number to choose your favorite fruit : \"))\n",
        "      print(f\"Your favorite fruit is {fruits[index]}\")\n",
        "      break\n",
        "    except IndexError:\n",
        "        print(\"There is no such an index. Try again!\")\n",
        "        break\n",
        "    except ValueError:\n",
        "        print(\"You should enter an integer. Try again'\")\n",
        "        break"
      ],
      "metadata": {
        "id": "M5P5Kbt9R-7D"
      },
      "execution_count": null,
      "outputs": []
    },
    {
      "cell_type": "code",
      "source": [
        "fruits = [\"banana\", \"mango\", \"pear\", \"apple\", \"kiwi\", \"grape\"]\n",
        "counter = 0\n",
        "while True:\n",
        "  try:\n",
        "    index = int(input(\"sayi giriniz\"))\n",
        "    print(\"favorit fruit \", fruits[index])\n",
        "    break\n",
        "  except:\n",
        "    print(\"Lütfen dogru giris yapiniz\")\n",
        "    counter += 1\n",
        "    if counter == 3:\n",
        "      break\n",
        "  else:\n",
        "    print(\"Kodumuz problemsiz calisti Tebrikler\")\n",
        "  finally:\n",
        "    print(\"Benim meyvelerim her zaman tazedir\")"
      ],
      "metadata": {
        "id": "3cBiAxvYSqq0"
      },
      "execution_count": null,
      "outputs": []
    },
    {
      "cell_type": "code",
      "source": [
        "counter = 3\n",
        "while counter > 0:\n",
        "  try :\n",
        "    print(f\"You have {counter} right\")\n",
        "    index = int(input(\"picka ,ndex number. \"))\n",
        "    print(\"Your favorite fruit is \", fruits[index])\n",
        "  except IndexError :\n",
        "    counter -= 1\n",
        "    print(f\"Index error. You have {counter} right left. Try again!\")\n",
        "\n",
        "  except ValueError :\n",
        "    counter -= 1\n",
        "    print(f\"Index error. You have {counter} right left. Try again!\")\n",
        "  else :\n",
        "    print((\"Congrats! You've entered valid input. \"))\n",
        "    break\n",
        "  finally :\n",
        "    print(\"Our fruits are always fresh!\")"
      ],
      "metadata": {
        "colab": {
          "base_uri": "https://localhost:8080/"
        },
        "id": "Ln5FIdnGUeF4",
        "outputId": "cc44f676-085d-4ad5-eac1-cd0758ccfbd1"
      },
      "execution_count": 9,
      "outputs": [
        {
          "output_type": "stream",
          "name": "stdout",
          "text": [
            "picka ,ndex number. e\n",
            "Index error. You have 2 right left. Try again!\n",
            "Our fruits are always fresh!\n",
            "picka ,ndex number. r\n",
            "Index error. You have 1 right left. Try again!\n",
            "Our fruits are always fresh!\n",
            "picka ,ndex number. e\n",
            "Index error. You have 0 right left. Try again!\n",
            "Our fruits are always fresh!\n"
          ]
        }
      ]
    }
  ]
}