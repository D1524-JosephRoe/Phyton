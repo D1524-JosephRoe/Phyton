{
  "nbformat": 4,
  "nbformat_minor": 0,
  "metadata": {
    "colab": {
      "name": "Untitled26.ipynb",
      "provenance": [],
      "authorship_tag": "ABX9TyM2aTa2VN5SKIiKKTe9TpGl",
      "include_colab_link": true
    },
    "kernelspec": {
      "name": "python3",
      "display_name": "Python 3"
    },
    "language_info": {
      "name": "python"
    }
  },
  "cells": [
    {
      "cell_type": "markdown",
      "metadata": {
        "id": "view-in-github",
        "colab_type": "text"
      },
      "source": [
        "<a href=\"https://colab.research.google.com/github/JosephRoe/Phyton/blob/main/prime_numbers.ipynb\" target=\"_parent\"><img src=\"https://colab.research.google.com/assets/colab-badge.svg\" alt=\"Open In Colab\"/></a>"
      ]
    },
    {
      "cell_type": "code",
      "metadata": {
        "id": "nnYowclJMXpj"
      },
      "source": [
        "prime_number_list=[]\n",
        "\n",
        "for i in range(2,100):\n",
        "  count=0\n",
        "  for j in range(1,i+1):\n",
        "    if i % j == 0:\n",
        "      count += 1\n",
        "  if count < 3:\n",
        "    prime_number_list.append(i)\n",
        "\n",
        "print(prime_number_list)"
      ],
      "execution_count": null,
      "outputs": []
    }
  ]
}