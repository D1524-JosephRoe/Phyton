{
 "cells": [
  {
   "cell_type": "code",
   "execution_count": 5,
   "metadata": {},
   "outputs": [
    {
     "name": "stdout",
     "output_type": "stream",
     "text": [
      "Hello, JosephRoe! password is : hadiyinebildin \n"
     ]
    }
   ],
   "source": [
    "name= \"JosephRoe\"\n",
    "şifre= \"hadiyinebildin\"\n",
    "\n",
    "kullanıcı = input(\"Lütfen isminizi giriniz\")\n",
    "if kullanıcı == name:\n",
    "    print(f\"Hello, {name}! password is : {şifre} \")\n",
    "else:\n",
    "    print(f\"Hello, {kullanıcı}! See you later.\")"
   ]
  }
 ],
 "metadata": {
  "interpreter": {
   "hash": "41b26d101b4733497527a199fd7853f34b9d9f45c2ec15af391dc892938f59c7"
  },
  "kernelspec": {
   "display_name": "Python 3.8.8 64-bit ('base': conda)",
   "language": "python",
   "name": "python3"
  },
  "language_info": {
   "codemirror_mode": {
    "name": "ipython",
    "version": 3
   },
   "file_extension": ".py",
   "mimetype": "text/x-python",
   "name": "python",
   "nbconvert_exporter": "python",
   "pygments_lexer": "ipython3",
   "version": "3.8.8"
  },
  "orig_nbformat": 4
 },
 "nbformat": 4,
 "nbformat_minor": 2
}
