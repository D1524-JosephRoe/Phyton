{
  "nbformat": 4,
  "nbformat_minor": 0,
  "metadata": {
    "colab": {
      "name": "Untitled20.ipynb",
      "provenance": [],
      "authorship_tag": "ABX9TyOmK252rsgbwviVjgxOkHKQ",
      "include_colab_link": true
    },
    "kernelspec": {
      "name": "python3",
      "display_name": "Python 3"
    },
    "language_info": {
      "name": "python"
    }
  },
  "cells": [
    {
      "cell_type": "markdown",
      "metadata": {
        "id": "view-in-github",
        "colab_type": "text"
      },
      "source": [
        "<a href=\"https://colab.research.google.com/github/D1524-JosephRoe/Phyton/blob/main/Untitled20.ipynb\" target=\"_parent\"><img src=\"https://colab.research.google.com/assets/colab-badge.svg\" alt=\"Open In Colab\"/></a>"
      ]
    },
    {
      "cell_type": "code",
      "metadata": {
        "colab": {
          "base_uri": "https://localhost:8080/"
        },
        "id": "jopAHFUgL_PQ",
        "outputId": "bb173d7f-9467-4b76-9a21-354a8502410a"
      },
      "source": [
        "sentence = input(\"give me a sentence : \")\n",
        "words = sentence.split()\n",
        "i=0\n",
        "longest=0\n",
        "while i < len(words):\n",
        "  if len(words[i]) > longest:\n",
        "    longest = len(words[i])\n",
        "    kelime = words[i]\n",
        "  i += 1\n",
        "print(\"longest word :\", kelime)\n",
        "print(\"the length of the longest word :\", longest)\n",
        "\n"
      ],
      "execution_count": 5,
      "outputs": [
        {
          "output_type": "stream",
          "name": "stdout",
          "text": [
            "give me a sentence : merhaba bugün günlerden prşmebe\n",
            "longest word : günlerden\n",
            "the length of the longest word : 9\n"
          ]
        }
      ]
    },
    {
      "cell_type": "code",
      "metadata": {
        "colab": {
          "base_uri": "https://localhost:8080/"
        },
        "id": "Bh3c8lmuPXby",
        "outputId": "1e64ca85-b77e-434f-9f9e-ef645a942c28"
      },
      "source": [
        "for i in range(5):\n",
        "  print(i, end=\" \")"
      ],
      "execution_count": 7,
      "outputs": [
        {
          "output_type": "stream",
          "name": "stdout",
          "text": [
            "0 1 2 3 4 "
          ]
        }
      ]
    },
    {
      "cell_type": "code",
      "metadata": {
        "colab": {
          "base_uri": "https://localhost:8080/"
        },
        "id": "2E6lgsF_QWEr",
        "outputId": "5dd8adf8-5415-4d5f-efad-fc90bcf94e72"
      },
      "source": [
        "names = [\"Ahmet\", \"Ali\", \"Adam\", \"Joseph\", \"Gabriel\"]\n",
        "for i in names:\n",
        "  print(\"Hello \", i)"
      ],
      "execution_count": 10,
      "outputs": [
        {
          "output_type": "stream",
          "name": "stdout",
          "text": [
            "Hello  Ahmet\n",
            "Hello  Ali\n",
            "Hello  Adam\n",
            "Hello  Joseph\n",
            "Hello  Gabriel\n"
          ]
        }
      ]
    },
    {
      "cell_type": "code",
      "metadata": {
        "colab": {
          "base_uri": "https://localhost:8080/"
        },
        "id": "tGlf7CneRkjT",
        "outputId": "c55464a3-58f2-4c23-849a-303d61202bc2"
      },
      "source": [
        "liste=list()\n",
        "for i in range(5):\n",
        "  liste.append(i)\n",
        "print(liste)"
      ],
      "execution_count": 20,
      "outputs": [
        {
          "output_type": "stream",
          "name": "stdout",
          "text": [
            "[0, 1, 2, 3, 4]\n"
          ]
        }
      ]
    },
    {
      "cell_type": "code",
      "metadata": {
        "colab": {
          "base_uri": "https://localhost:8080/"
        },
        "id": "uRlQ3J8fTxJ0",
        "outputId": "71dbe400-ead3-4a84-86fe-9d165be2e31f"
      },
      "source": [
        "course = \"clarusway\"\n",
        "\n",
        "counter=0\n",
        "for i in course:\n",
        "  counter += 1\n",
        "  if counter < len(course):\n",
        "    i = i + \"-\"\n",
        "\n",
        "  print(i,  end=\"\")"
      ],
      "execution_count": 40,
      "outputs": [
        {
          "output_type": "stream",
          "name": "stdout",
          "text": [
            "c-l-a-r-u-s-w-a-y"
          ]
        }
      ]
    },
    {
      "cell_type": "code",
      "metadata": {
        "colab": {
          "base_uri": "https://localhost:8080/"
        },
        "id": "hv-ZmWF4V3wl",
        "outputId": "24e6864c-9a27-48a3-a29c-ed6be0ff202c"
      },
      "source": [
        "test = [(1,2), (3,4), (5,6)]\n",
        "for i, j in test:\n",
        "  print(i,j)"
      ],
      "execution_count": 41,
      "outputs": [
        {
          "output_type": "stream",
          "name": "stdout",
          "text": [
            "1 2\n",
            "3 4\n",
            "5 6\n"
          ]
        }
      ]
    },
    {
      "cell_type": "code",
      "metadata": {
        "colab": {
          "base_uri": "https://localhost:8080/"
        },
        "id": "QBllqPXee92r",
        "outputId": "acff0cd4-cc70-4452-f66a-6217c09b1b2a"
      },
      "source": [
        "sayı = int(input(\"bir sayı giriniz: \"))\n",
        "\n",
        "for i in range(11):\n",
        "  print(f\"{sayı} * i =  \" , sayı * i)\n"
      ],
      "execution_count": 44,
      "outputs": [
        {
          "output_type": "stream",
          "name": "stdout",
          "text": [
            "bir sayı giriniz: 5\n",
            "5 * i =   0\n",
            "5 * i =   5\n",
            "5 * i =   10\n",
            "5 * i =   15\n",
            "5 * i =   20\n",
            "5 * i =   25\n",
            "5 * i =   30\n",
            "5 * i =   35\n",
            "5 * i =   40\n",
            "5 * i =   45\n",
            "5 * i =   50\n"
          ]
        }
      ]
    },
    {
      "cell_type": "code",
      "metadata": {
        "colab": {
          "base_uri": "https://localhost:8080/"
        },
        "id": "zt-8uMFFfxoS",
        "outputId": "8ef0c8e5-ccf7-445c-e479-3bd9cf42cf68"
      },
      "source": [
        "sayı = int(input(\"bir sayı giriniz: \"))\n",
        "\n",
        "for i in range(1,11):\n",
        "  print(f\"{sayı} x {i} = \" , sayı * i)"
      ],
      "execution_count": 60,
      "outputs": [
        {
          "output_type": "stream",
          "name": "stdout",
          "text": [
            "bir sayı giriniz: 7\n",
            "7 x 1 =  7\n",
            "7 x 2 =  14\n",
            "7 x 3 =  21\n",
            "7 x 4 =  28\n",
            "7 x 5 =  35\n",
            "7 x 6 =  42\n",
            "7 x 7 =  49\n",
            "7 x 8 =  56\n",
            "7 x 9 =  63\n",
            "7 x 10 =  70\n"
          ]
        }
      ]
    },
    {
      "cell_type": "code",
      "metadata": {
        "colab": {
          "base_uri": "https://localhost:8080/"
        },
        "id": "wHRuvp9ns8GE",
        "outputId": "3a275586-7122-4b8d-b5b7-4fb82abd560d"
      },
      "source": [
        "text=[\"Bir\", \"İki\", \"Üç\", \"Dört\", \"Beş\"]\n",
        "rakam= (1,2,3,4,5)\n",
        "isim= (\"Yusuf\", \"Miraç\", \"Dilruba\", \"Dilara\", \"Furkan\")\n",
        "for i, j, k in zip(rakam, text, isim):\n",
        "  print(i, \":\" , j , \"=\",k)\n",
        "  "
      ],
      "execution_count": 65,
      "outputs": [
        {
          "output_type": "stream",
          "name": "stdout",
          "text": [
            "1 : Bir = Yusuf\n",
            "2 : İki = Miraç\n",
            "3 : Üç = Dilruba\n",
            "4 : Dört = Dilara\n",
            "5 : Beş = Furkan\n"
          ]
        }
      ]
    },
    {
      "cell_type": "code",
      "metadata": {
        "colab": {
          "base_uri": "https://localhost:8080/"
        },
        "id": "h3OBRQPblM7V",
        "outputId": "52c24151-fe67-4e81-acca-c595e0cdc672"
      },
      "source": [
        "for i in range(10):\n",
        "    print(str(i) * i)"
      ],
      "execution_count": 56,
      "outputs": [
        {
          "output_type": "stream",
          "name": "stdout",
          "text": [
            "\n",
            "1\n",
            "22\n",
            "333\n",
            "4444\n",
            "55555\n",
            "666666\n",
            "7777777\n",
            "88888888\n",
            "999999999\n"
          ]
        }
      ]
    },
    {
      "cell_type": "code",
      "metadata": {
        "colab": {
          "base_uri": "https://localhost:8080/"
        },
        "id": "Wqv9jBgUuULX",
        "outputId": "5b47dc78-cf7a-45b5-cba6-67478e147bd9"
      },
      "source": [
        "rakam= (1,2,3,4,5)\n",
        "isim= (\"Yusuf\", \"Miraç\", \"Dilruba\", \"Dilara\", \"Furkan\")\n",
        "dict(zip(rakam,isim))"
      ],
      "execution_count": 66,
      "outputs": [
        {
          "output_type": "execute_result",
          "data": {
            "text/plain": [
              "{1: 'Yusuf', 2: 'Miraç', 3: 'Dilruba', 4: 'Dilara', 5: 'Furkan'}"
            ]
          },
          "metadata": {},
          "execution_count": 66
        }
      ]
    },
    {
      "cell_type": "code",
      "metadata": {
        "colab": {
          "base_uri": "https://localhost:8080/"
        },
        "id": "c3lgQvnUup10",
        "outputId": "5f575bb7-82e6-4881-8746-95ebfc726eb0"
      },
      "source": [
        "evens = []\n",
        "odds = []\n",
        "for i in range(10):\n",
        "  if i % 2 == 0:\n",
        "    evens.append(i)\n",
        "  else:\n",
        "    odds.append(i)\n",
        "\n",
        "print(\"evens =\" , evens) \n",
        "print(\"odds =\" , odds)\n",
        " "
      ],
      "execution_count": 70,
      "outputs": [
        {
          "output_type": "stream",
          "name": "stdout",
          "text": [
            "evens =  [0, 2, 4, 6, 8]\n",
            "odds =  [1, 3, 5, 7, 9]\n"
          ]
        }
      ]
    },
    {
      "cell_type": "code",
      "metadata": {
        "colab": {
          "base_uri": "https://localhost:8080/"
        },
        "id": "vfXII6IQxBCm",
        "outputId": "56fd7bdc-c529-4540-a4c9-588549fb6bee"
      },
      "source": [
        "example=[12,3,5,56,23,43,6]\n",
        "\n",
        "evens=0\n",
        "odds=0\n",
        "for i in example:\n",
        "  if i % 2 == 0:\n",
        "    evens +=1\n",
        "  else:\n",
        "    odds +=1\n",
        "\n",
        "print(\"odds counts: \", odds)\n",
        "print(\"evens counts: \", evens)"
      ],
      "execution_count": 72,
      "outputs": [
        {
          "output_type": "stream",
          "name": "stdout",
          "text": [
            "odds counts:  4\n",
            "evens counts:  3\n"
          ]
        }
      ]
    }
  ]
}