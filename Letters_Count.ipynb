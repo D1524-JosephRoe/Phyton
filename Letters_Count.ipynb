{
  "nbformat": 4,
  "nbformat_minor": 0,
  "metadata": {
    "colab": {
      "name": "Letters Count.ipynb",
      "provenance": [],
      "authorship_tag": "ABX9TyMuUyln05lWWdwZ0bpYsRwo",
      "include_colab_link": true
    },
    "kernelspec": {
      "name": "python3",
      "display_name": "Python 3"
    },
    "language_info": {
      "name": "python"
    }
  },
  "cells": [
    {
      "cell_type": "markdown",
      "metadata": {
        "id": "view-in-github",
        "colab_type": "text"
      },
      "source": [
        "<a href=\"https://colab.research.google.com/github/JosephRoe/Phyton/blob/main/Letters_Count.ipynb\" target=\"_parent\"><img src=\"https://colab.research.google.com/assets/colab-badge.svg\" alt=\"Open In Colab\"/></a>"
      ]
    },
    {
      "cell_type": "code",
      "metadata": {
        "id": "7QNsyHCpaPOL",
        "colab": {
          "base_uri": "https://localhost:8080/"
        },
        "outputId": "611d6dc5-e551-423d-833c-b4136f1cea22"
      },
      "source": [
        "string = input(\"Bir metin giriniz\")\n",
        "word_dict = {}\n",
        "for n in string :\n",
        "  if n in word_dict :\n",
        "    word_dict[n] += 1\n",
        "  else :\n",
        "    word_dict[n] = 1\n",
        "\n",
        "print(word_dict)"
      ],
      "execution_count": 6,
      "outputs": [
        {
          "output_type": "stream",
          "name": "stdout",
          "text": [
            "Bir metin girinizbugün hava çok güzel\n",
            "{'b': 1, 'u': 1, 'g': 2, 'ü': 2, 'n': 1, ' ': 3, 'h': 1, 'a': 2, 'v': 1, 'ç': 1, 'o': 1, 'k': 1, 'z': 1, 'e': 1, 'l': 1}\n"
          ]
        }
      ]
    }
  ]
}