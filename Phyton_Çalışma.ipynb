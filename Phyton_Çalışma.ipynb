{
  "nbformat": 4,
  "nbformat_minor": 0,
  "metadata": {
    "colab": {
      "name": "Phyton-Çalışma.ipynb",
      "provenance": [],
      "authorship_tag": "ABX9TyO7W/N+q4gCC4jQJ6fKGr80",
      "include_colab_link": true
    },
    "kernelspec": {
      "name": "python3",
      "display_name": "Python 3"
    },
    "language_info": {
      "name": "python"
    }
  },
  "cells": [
    {
      "cell_type": "markdown",
      "metadata": {
        "id": "view-in-github",
        "colab_type": "text"
      },
      "source": [
        "<a href=\"https://colab.research.google.com/github/JosephRoe/Phyton/blob/main/Phyton_%C3%87al%C4%B1%C5%9Fma.ipynb\" target=\"_parent\"><img src=\"https://colab.research.google.com/assets/colab-badge.svg\" alt=\"Open In Colab\"/></a>"
      ]
    },
    {
      "cell_type": "code",
      "execution_count": null,
      "metadata": {
        "id": "9Fnwn8_fTA72",
        "colab": {
          "base_uri": "https://localhost:8080/"
        },
        "outputId": "850ae38e-6fe8-4277-fbcb-1d9c73f89f81"
      },
      "outputs": [
        {
          "output_type": "stream",
          "name": "stdout",
          "text": [
            "Bir sayı giriniz.9\n",
            "9 sayısı özel bir sayı değildir.\n"
          ]
        }
      ],
      "source": [
        "total = 0\n",
        "num = int(input(\"Bir sayı giriniz.\"))\n",
        "for i in range(1,num):\n",
        "  if num % i == 0:\n",
        "    total += i\n",
        "if num == total:\n",
        "  print(f\"{num} sayısı bir özel sayıdır\")\n",
        "else:\n",
        "  print(f\"{num} sayısı özel bir sayı değildir.\")\n"
      ]
    },
    {
      "cell_type": "code",
      "source": [
        "cumle = \"Bugün tüm taraftarların Trabzonspor'u tutması gerekir\"\n",
        "enbüyük = cumle[cumle.index(\"T\") : cumle.index(\"'\")]\n",
        "enbüyük"
      ],
      "metadata": {
        "colab": {
          "base_uri": "https://localhost:8080/",
          "height": 34
        },
        "id": "SaZC2_ZV8euv",
        "outputId": "37ab2629-67b4-44e0-99a1-53df3323dc60"
      },
      "execution_count": null,
      "outputs": [
        {
          "output_type": "execute_result",
          "data": {
            "application/vnd.google.colaboratory.intrinsic+json": {
              "type": "string"
            },
            "text/plain": [
              "'Trabzonspor'"
            ]
          },
          "metadata": {},
          "execution_count": 20
        }
      ]
    },
    {
      "cell_type": "code",
      "source": [
        "num1 = int(input(\"Input a number: \"))\n",
        "num2 = int(input(\"Input second number: \"))\n",
        "if num1 > num2:\n",
        "  small = num2\n",
        "else :\n",
        "  small = num1\n",
        "\n",
        "for i in range(1,small + 1):\n",
        "  if num1 % i == 0 and num2 % i == 0 :\n",
        "    bolen = i\n",
        "\n",
        "print(bolen) "
      ],
      "metadata": {
        "colab": {
          "base_uri": "https://localhost:8080/"
        },
        "id": "IC7Wwg8e-nm_",
        "outputId": "7e4bc53f-43fd-403e-aa49-5b60f8538828"
      },
      "execution_count": null,
      "outputs": [
        {
          "output_type": "stream",
          "name": "stdout",
          "text": [
            "Input a number: 12\n",
            "Input second number: 6\n",
            "6\n"
          ]
        }
      ]
    },
    {
      "cell_type": "code",
      "source": [
        "metin = \"Yusuf is a good programmer and Yusuf is a good commander.\"\n",
        "\n",
        "print(\"Yusuf appeared {} times at sentence\" . format(metin.count(\"Yusuf\")))"
      ],
      "metadata": {
        "colab": {
          "base_uri": "https://localhost:8080/"
        },
        "id": "EHGqbbwWBqfw",
        "outputId": "48c25dfa-bbf5-466a-dbfb-bf20db9497c8"
      },
      "execution_count": null,
      "outputs": [
        {
          "output_type": "stream",
          "name": "stdout",
          "text": [
            "2\n",
            "Yusuf appeared 2 times at sentence\n"
          ]
        }
      ]
    },
    {
      "cell_type": "code",
      "source": [
        "ters_sırala = sorted([i for i in range(1,11)], reverse = True)\n",
        "\n",
        "sırala = sorted([i for i in range(1,11)])\n",
        "\n",
        "liste = [12, 21, 34, 14, 25, 46, 17, 8, 49, 10]\n",
        "\n",
        "sıralı = sorted(liste)\n",
        "\n",
        "ters_sıralı = sorted(liste,reverse=True)"
      ],
      "metadata": {
        "colab": {
          "base_uri": "https://localhost:8080/"
        },
        "id": "QwlBsTZInbYv",
        "outputId": "0a86ae94-b81f-43fc-9922-515ae9c9b970"
      },
      "execution_count": 6,
      "outputs": [
        {
          "output_type": "execute_result",
          "data": {
            "text/plain": [
              "[49, 46, 34, 25, 21, 17, 14, 12, 10, 8]"
            ]
          },
          "metadata": {},
          "execution_count": 6
        }
      ]
    },
    {
      "cell_type": "code",
      "source": [
        "num1 = int(input(\"Please enter first number :\"))\n",
        "num2 = int(input(\"Now print second number :\"))\n",
        "toplam =[]\n",
        "for i in range(1, num1+1) :\n",
        "  if num1 % i == 0 :\n",
        "    toplam += [i]\n",
        "    num1 = num1 // i\n",
        "for j in range(1, num2+1) :\n",
        "  if num2 % j == 0 :\n",
        "    toplam += [j]\n",
        "    num2 = num2 // j\n",
        "\n",
        "print(sorted(set(toplam)))\n"
      ],
      "metadata": {
        "colab": {
          "base_uri": "https://localhost:8080/"
        },
        "id": "61pYRaJVp5Y8",
        "outputId": "d0f59ad5-d842-43a1-bf59-6c5393ffa4d8"
      },
      "execution_count": 12,
      "outputs": [
        {
          "output_type": "stream",
          "name": "stdout",
          "text": [
            "Please enter first number :10\n",
            "Now print second number :6\n",
            "[1, 2, 3, 5]\n"
          ]
        }
      ]
    },
    {
      "cell_type": "code",
      "source": [
        "num =list(map(int, input(\"\").split()))\n",
        "if num[0] == num[1] or num[1] == num[2] or num[0] == num[2] :\n",
        "  print(0)\n",
        "else:\n",
        "  print(sum(num))"
      ],
      "metadata": {
        "colab": {
          "base_uri": "https://localhost:8080/"
        },
        "id": "yIuy42i8sKr7",
        "outputId": "2d4a6f71-e17a-44f7-973b-7a23c035c43f"
      },
      "execution_count": 14,
      "outputs": [
        {
          "output_type": "stream",
          "name": "stdout",
          "text": [
            "12 23 45\n",
            "80\n"
          ]
        }
      ]
    },
    {
      "cell_type": "code",
      "source": [
        "num = list(map(int, input(\"please enter three number\").split()))\n",
        "if num[0] == num[1] or num[1] == num[2] or num[0] == num[2] :\n",
        "  print(\"Please to enter same number\")\n",
        "else:\n",
        "  print(\"Sum = \", sum(num))"
      ],
      "metadata": {
        "colab": {
          "base_uri": "https://localhost:8080/"
        },
        "id": "40OMuVIwsUDq",
        "outputId": "1a79292d-bbaf-470d-c453-b2ccfda1022f"
      },
      "execution_count": 17,
      "outputs": [
        {
          "output_type": "stream",
          "name": "stdout",
          "text": [
            "please enter three number1 1 1\n",
            "Please to enter same number\n"
          ]
        }
      ]
    }
  ]
}