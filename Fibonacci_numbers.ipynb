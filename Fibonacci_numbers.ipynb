{
  "nbformat": 4,
  "nbformat_minor": 0,
  "metadata": {
    "colab": {
      "name": "Fibonacci_numbers.ipynb",
      "provenance": [],
      "authorship_tag": "ABX9TyPTbGo9SjRkUwMFj1OW7ycM",
      "include_colab_link": true
    },
    "kernelspec": {
      "name": "python3",
      "display_name": "Python 3"
    },
    "language_info": {
      "name": "python"
    }
  },
  "cells": [
    {
      "cell_type": "markdown",
      "metadata": {
        "id": "view-in-github",
        "colab_type": "text"
      },
      "source": [
        "<a href=\"https://colab.research.google.com/github/JosephRoe/Phyton/blob/main/Fibonacci_numbers.ipynb\" target=\"_parent\"><img src=\"https://colab.research.google.com/assets/colab-badge.svg\" alt=\"Open In Colab\"/></a>"
      ]
    },
    {
      "cell_type": "code",
      "metadata": {
        "colab": {
          "base_uri": "https://localhost:8080/"
        },
        "id": "f4rjeZChE7_2",
        "outputId": "f98e5477-d730-4b32-9766-fe1204a438d1"
      },
      "source": [
        "liste=[0,1]\n",
        "for i in range(2,11):\n",
        "  i= liste[i-1]+ liste[i-2]\n",
        "  liste.append(i)\n",
        "\n",
        "print(liste)"
      ],
      "execution_count": 13,
      "outputs": [
        {
          "output_type": "stream",
          "name": "stdout",
          "text": [
            "[0, 1, 1, 2, 3, 5, 8, 13, 21, 34, 55]\n"
          ]
        }
      ]
    }
  ]
}